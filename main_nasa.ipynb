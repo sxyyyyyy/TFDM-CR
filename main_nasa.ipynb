{
 "cells": [
  {
   "cell_type": "code",
   "execution_count": null,
   "metadata": {
    "metadata": {}
   },
   "outputs": [],
   "source": [
    "import matplotlib.pyplot as plt\n",
    "import numpy as np\n",
    "import pandas as pd\n",
    "import torch\n",
    "from gluonts.dataset.multivariate_grouper import MultivariateGrouper\n",
    "from gluonts.dataset.repository.datasets import dataset_recipes, get_dataset\n",
    "from gluonts.evaluation.backtest import make_evaluation_predictions\n",
    "from gluonts.evaluation import MultivariateEvaluator\n",
    "from pathlib import Path\n",
    "from gluonts.dataset.common import load_datasets\n",
    "from Battery_estimator import Battery_Estimator\n",
    "from trainer import Trainer\n",
    "device = torch.device(\"cuda:1\" if torch.cuda.is_available() else \"cpu\")"
   ]
  },
  {
   "cell_type": "code",
   "execution_count": null,
   "metadata": {
    "metadata": {}
   },
   "outputs": [],
   "source": [
    "from pathlib import Path\n",
    "from gluonts.dataset.common import load_datasets\n",
    "data_dir = r'/data'    \n",
    "data_dir = Path(data_dir)\n",
    "dataset = load_datasets(\n",
    "    metadata=data_dir / \"nasa\",\n",
    "    train=data_dir / \"nasa\" / \"train\",\n",
    "    test=data_dir / \"nasa\" / \"test\",\n",
    ")\n",
    "features = [i for i in list(dir(dataset)) if not i.startswith(\"_\")]"
   ]
  },
  {
   "cell_type": "code",
   "execution_count": null,
   "metadata": {
    "metadata": {}
   },
   "outputs": [],
   "source": [
    "train_grouper = MultivariateGrouper(max_target_dim=16)\n",
    "test_grouper = MultivariateGrouper(num_test_dates=int(len(dataset.test)/len(dataset.train)), \n",
    "                                   max_target_dim=16)\n",
    "\n",
    "dataset_train = train_grouper(dataset.train)\n",
    "dataset_test = test_grouper(dataset.test)\n",
    "\n",
    "for group1 in dataset_train:\n",
    "    print(group1)\n",
    "\n",
    "for group2 in dataset_test:\n",
    "    print(group2)"
   ]
  },
  {
   "cell_type": "code",
   "execution_count": null,
   "metadata": {
    "metadata": {}
   },
   "outputs": [],
   "source": [
    "estimator = Battery_Estimator(\n",
    "    target_dim=3,\n",
    "    conditioning_length=16,\n",
    "    prediction_length=32,\n",
    "    context_length=16,\n",
    "    cell_type='LSTM',   \n",
    "    input_size=11,\n",
    "    freq=\"D\",          \n",
    "    loss_type='l2',\n",
    "    scaling=True,\n",
    "    diff_steps=40,\n",
    "    beta_end=0.04,  \n",
    "    beta_schedule=\"linear\",\n",
    "    trainer=Trainer(device=device, epochs=30, learning_rate=7e-6, num_batches_per_epoch=100, batch_size=128,),\n",
    "    series=group2['target'],\n",
    ")\n",
    "predictor = estimator.train(dataset_train, num_workers=10)"
   ]
  },
  {
   "cell_type": "code",
   "execution_count": null,
   "metadata": {
    "metadata": {}
   },
   "outputs": [],
   "source": [
    "forecast_it, ts_it = make_evaluation_predictions(dataset=dataset_test,\n",
    "                                                 predictor=predictor,\n",
    "                                                 num_samples=100)\n",
    "forecasts = list(forecast_it)\n",
    "targets = list(ts_it)\n",
    "\n",
    "evaluator = MultivariateEvaluator(quantiles=(np.arange(20)/20.0)[1:], \n",
    "                                  target_agg_funcs={'sum': np.sum})\n",
    "\n",
    "agg_metric, item_metrics = evaluator(targets, forecasts, num_series=len(dataset_test))\n",
    "\n",
    "print(\"0_MSE:\", agg_metric[\"0_MSE\"])\n",
    "print(\"0_MAPE:\", agg_metric[\"0_MAPE\"])\n",
    "print(\"0_mean_wQuantileLoss:\", agg_metric[\"0_mean_wQuantileLoss\"])\n"
   ]
  }
 ],
 "metadata": {
  "kernelspec": {
   "display_name": "sss-time",
   "language": "python",
   "name": "python3"
  },
  "language_info": {
   "codemirror_mode": {
    "name": "ipython",
    "version": 3
   },
   "file_extension": ".py",
   "mimetype": "text/x-python",
   "name": "python",
   "nbconvert_exporter": "python",
   "pygments_lexer": "ipython3",
   "version": "3.9.18"
  }
 },
 "nbformat": 4,
 "nbformat_minor": 4
}
